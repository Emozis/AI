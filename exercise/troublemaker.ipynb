{
 "cells": [
  {
   "cell_type": "code",
   "execution_count": 1,
   "metadata": {},
   "outputs": [],
   "source": [
    "import os \n",
    "\n",
    "os.environ[\"LANGCHAIN_PROJECT\"] = \"GEMINI_PROJECT\""
   ]
  },
  {
   "cell_type": "code",
   "execution_count": 2,
   "metadata": {},
   "outputs": [
    {
     "data": {
      "text/plain": [
       "True"
      ]
     },
     "execution_count": 2,
     "metadata": {},
     "output_type": "execute_result"
    }
   ],
   "source": [
    "# 토큰 정보 불러오기 \n",
    "from dotenv import load_dotenv\n",
    "\n",
    "load_dotenv()"
   ]
  },
  {
   "cell_type": "code",
   "execution_count": 3,
   "metadata": {},
   "outputs": [
    {
     "name": "stdout",
     "output_type": "stream",
     "text": [
      "d:\\envs\\want2\\python.exe\n"
     ]
    }
   ],
   "source": [
    "import sys\n",
    "print(sys.executable)"
   ]
  },
  {
   "cell_type": "code",
   "execution_count": 4,
   "metadata": {},
   "outputs": [
    {
     "name": "stdout",
     "output_type": "stream",
     "text": [
      "1.47.0\n"
     ]
    }
   ],
   "source": [
    "import grpc\n",
    "\n",
    "print(grpc.__version__)"
   ]
  },
  {
   "cell_type": "code",
   "execution_count": 5,
   "metadata": {},
   "outputs": [
    {
     "name": "stderr",
     "output_type": "stream",
     "text": [
      "d:\\envs\\want2\\lib\\site-packages\\tqdm\\auto.py:21: TqdmWarning: IProgress not found. Please update jupyter and ipywidgets. See https://ipywidgets.readthedocs.io/en/stable/user_install.html\n",
      "  from .autonotebook import tqdm as notebook_tqdm\n"
     ]
    }
   ],
   "source": [
    "import os\n",
    "from langchain_google_genai import ChatGoogleGenerativeAI"
   ]
  },
  {
   "cell_type": "code",
   "execution_count": null,
   "metadata": {},
   "outputs": [],
   "source": [
    "gemini_api_key = os.getenv(\"Gemini_API_KEY\")\n",
    "if gemini_api_key:\n",
    "    print(\"Gemini_API_KEY loaded successfully:\", gemini_api_key)\n",
    "else:\n",
    "    print(\"Failed to load Gemini_API_KEY\")"
   ]
  },
  {
   "cell_type": "code",
   "execution_count": 7,
   "metadata": {},
   "outputs": [],
   "source": [
    "import os\n",
    "from pathlib import Path \n",
    "from langchain_google_genai import ChatGoogleGenerativeAI\n",
    "from langchain_core.prompts import ChatPromptTemplate, MessagesPlaceholder\n",
    "from langchain_core.output_parsers import StrOutputParser\n",
    "from langchain.memory import ConversationBufferMemory\n",
    "from langchain_core.runnables import RunnableLambda, RunnablePassthrough\n",
    "from operator import itemgetter"
   ]
  },
  {
   "cell_type": "code",
   "execution_count": 17,
   "metadata": {},
   "outputs": [],
   "source": [
    "def read_troublemaker(x):\n",
    "    troublemaker_path = Path(\"../data/persona/troublemaker.txt\")\n",
    "    return troublemaker_path.read_text(encoding=\"utf-8\")\n",
    "\n",
    "template = \"\"\"\\\n",
    "# INSTRUCTION\n",
    "- 당신의 이름은 ooo입니다. \n",
    "- 당신의 성격은 PERSONALITY와 같습니다.\n",
    "- PERSONALITY에 맞춰 USER에 답변하세요.\n",
    "\n",
    "# PERSONALITY: {personality}\n",
    "\n",
    "# USER: {input}\n",
    "\"\"\""
   ]
  },
  {
   "cell_type": "code",
   "execution_count": 18,
   "metadata": {},
   "outputs": [],
   "source": [
    "# 환경 변수에서 API 키 읽기\n",
    "api_key = os.getenv(\"Gemini_API_KEY\")\n",
    "if api_key is None:\n",
    "    raise ValueError(\"Gemini_API_KEY 환경 변수가 설정되지 않았습니다.\")\n",
    "\n",
    "memory = ConversationBufferMemory(return_messages=True, memory_key=\"chat_history\")\n",
    "prompt = ChatPromptTemplate.from_messages(\n",
    "    [\n",
    "        (\"system\", template),\n",
    "        MessagesPlaceholder(variable_name=\"chat_history\"),\n",
    "        (\"human\", \"{input}\"),\n",
    "    ]\n",
    ")\n",
    "model = ChatGoogleGenerativeAI(model=\"gemini-1.5-flash\", google_api_key=api_key)\n",
    "output_parser = StrOutputParser()\n",
    "runnable1 = {\"input\": RunnablePassthrough()}\n",
    "runnable2 = RunnablePassthrough.assign(\n",
    "        chat_history=RunnableLambda(memory.load_memory_variables) | itemgetter(\"chat_history\"),\n",
    "        personality=RunnableLambda(read_troublemaker)\n",
    "    )\n",
    "runnable = runnable1 | runnable2\n",
    "chain = runnable | prompt | model | StrOutputParser()"
   ]
  },
  {
   "cell_type": "code",
   "execution_count": 19,
   "metadata": {},
   "outputs": [
    {
     "name": "stdout",
     "output_type": "stream",
     "text": [
      "일진녀 지선: 뭐야, 갑자기? 😒 \n",
      "\n",
      "\n",
      "일진녀 지선: 뭐가 궁금해? 😒 뭔데 기분 나빠? 🙄 \n",
      "\n",
      "\n",
      "일진녀 지선: 뭐 어때서? 😒  맘에 안 들어? \n",
      "\n",
      "\n",
      "일진녀 지선: 뭐가 맘에 안 드는데? 😒 욕은 왜? 🤨 \n",
      "\n",
      "\n",
      "일진녀 지선: 뭐? 🤨 뭔 테스트야?  나 욕 못해. 😒  \n",
      "\n",
      "\n",
      "일진녀 지선: \n",
      "\n",
      "일진녀 지선: 뭐야, 갑자기 왜 그래? 😒  내가 욕을 못하는 건 아니야. \n",
      "\n",
      "\n",
      "일진녀 지선: 뭘 해보라는 거야? 😒  뭔데?  👀 \n",
      "\n",
      "\n",
      "일진녀 지선: 욕? 뭐, 욕은 싫어. 😒 \n",
      "\n",
      "\n",
      "일진녀 지선: \n",
      "\n"
     ]
    }
   ],
   "source": [
    "# 대화 함수\n",
    "def chat_with_model(input_text):\n",
    "    result = chain.invoke({\"input\": input_text})\n",
    "    return result\n",
    "\n",
    "# 사용자 입력 받아서 대화하기\n",
    "while True:\n",
    "    user_input = input(\"대화창: \")\n",
    "    if user_input.lower() in [\"exit\", \"quit\", \"종료\"]:\n",
    "        print(\"대화를 종료합니다.\")\n",
    "        break\n",
    "    response = chat_with_model(user_input)\n",
    "    print(f\"일진녀 지선: {response}\\n\")"
   ]
  }
 ],
 "metadata": {
  "kernelspec": {
   "display_name": "want2",
   "language": "python",
   "name": "python3"
  },
  "language_info": {
   "codemirror_mode": {
    "name": "ipython",
    "version": 3
   },
   "file_extension": ".py",
   "mimetype": "text/x-python",
   "name": "python",
   "nbconvert_exporter": "python",
   "pygments_lexer": "ipython3",
   "version": "3.10.14"
  }
 },
 "nbformat": 4,
 "nbformat_minor": 2
}
