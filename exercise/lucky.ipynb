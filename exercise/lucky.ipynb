{
 "cells": [
  {
   "cell_type": "code",
   "execution_count": 2,
   "metadata": {},
   "outputs": [],
   "source": [
    "import os\n",
    "import openai\n",
    "from openai import OpenAI"
   ]
  },
  {
   "cell_type": "code",
   "execution_count": 3,
   "metadata": {},
   "outputs": [
    {
     "data": {
      "text/plain": [
       "True"
      ]
     },
     "execution_count": 3,
     "metadata": {},
     "output_type": "execute_result"
    }
   ],
   "source": [
    "from dotenv import load_dotenv \n",
    "load_dotenv()"
   ]
  },
  {
   "cell_type": "code",
   "execution_count": 4,
   "metadata": {},
   "outputs": [],
   "source": [
    "# 환경 변수에서 API 키 가져오기\n",
    "openai_api_key = os.getenv(\"emogi_openai_api_key\")"
   ]
  },
  {
   "cell_type": "code",
   "execution_count": 5,
   "metadata": {},
   "outputs": [],
   "source": [
    "from pathlib import Path\n",
    "from langchain_openai import ChatOpenAI \n",
    "# from langchain_upstage import ChatUpstage\n",
    "from langchain_core.runnables import RunnablePassthrough, RunnableLambda\n",
    "from langchain_core.prompts import ChatPromptTemplate, MessagesPlaceholder\n",
    "from langchain_core.output_parsers import StrOutputParser\n",
    "from langchain.memory import ConversationBufferMemory\n",
    "from operator import itemgetter"
   ]
  },
  {
   "cell_type": "code",
   "execution_count": 6,
   "metadata": {},
   "outputs": [
    {
     "name": "stdout",
     "output_type": "stream",
     "text": [
      "[('langchain', '0.2.7'), ('langchain-community', '0.2.7'), ('langchain-core', '0.2.12'), ('langchain-google-genai', '1.0.7'), ('langchain-openai', '0.1.14'), ('langchain-teddynote', '0.0.35'), ('langchain-text-splitters', '0.2.2')]\n"
     ]
    }
   ],
   "source": [
    "import pkg_resources\n",
    "installed_packages = pkg_resources.working_set\n",
    "langchain_version = [(d.project_name, d.version) for d in installed_packages if 'langchain' in d.project_name]\n",
    "print(langchain_version)"
   ]
  },
  {
   "cell_type": "code",
   "execution_count": 7,
   "metadata": {},
   "outputs": [
    {
     "name": "stdout",
     "output_type": "stream",
     "text": [
      "LangSmith 추적을 시작합니다.\n",
      "[프로젝트명]\n",
      "emogi_openai\n"
     ]
    }
   ],
   "source": [
    "from langchain_teddynote import logging\n",
    "\n",
    "# 프로젝트 이름을 입력합니다.\n",
    "logging.langsmith(\"emogi_openai\")"
   ]
  },
  {
   "cell_type": "code",
   "execution_count": 8,
   "metadata": {},
   "outputs": [],
   "source": [
    "def read_luckyvicky(x):\n",
    "    luckyvicky_path = Path(\"../data/persona/luckyvicky.txt\")\n",
    "    return luckyvicky_path.read_text(encoding=\"utf-8\")\n",
    "\n",
    "template = \"\"\"\\\n",
    "# INSTRUCTION\n",
    "- 당신의 이름은 ooo입니다. \n",
    "- 당신의 성격은 PERSONALITY와 같습니다.\n",
    "- PERSONALITY에 맞춰 USER에 답변하세요.\n",
    "\n",
    "# PERSONALITY: {personality}\n",
    "\n",
    "# USER: {input}\n",
    "\"\"\"\n",
    "\n",
    "from langchain.prompts import ChatPromptTemplate, MessagesPlaceholder\n",
    "from langchain.chat_models import ChatOpenAI\n",
    "from langchain.schema import StrOutputParser\n",
    "from langchain.schema.runnable import RunnablePassthrough, RunnableLambda\n",
    "from operator import itemgetter"
   ]
  },
  {
   "cell_type": "code",
   "execution_count": 9,
   "metadata": {},
   "outputs": [],
   "source": [
    "# 환경 변수에서 API 키 읽기\n",
    "openai_api_key = os.getenv(\"emogi_openai_api_key\")\n",
    "if openai_api_key is None:\n",
    "    raise ValueError(\"emogi_openai_api_key 환경 변수가 설정되지 않았습니다.\")\n",
    "\n",
    "memory = ConversationBufferMemory(return_messages=True, memory_key=\"chat_history\")\n",
    "prompt = ChatPromptTemplate.from_messages(\n",
    "    [\n",
    "        (\"system\", template),\n",
    "        MessagesPlaceholder(variable_name=\"chat_history\"),\n",
    "        (\"human\", \"{input}\"),\n",
    "    ]\n",
    ")"
   ]
  },
  {
   "cell_type": "code",
   "execution_count": 10,
   "metadata": {},
   "outputs": [
    {
     "name": "stderr",
     "output_type": "stream",
     "text": [
      "d:\\envs\\want2\\lib\\site-packages\\langchain_core\\_api\\deprecation.py:139: LangChainDeprecationWarning: The class `ChatOpenAI` was deprecated in LangChain 0.0.10 and will be removed in 0.3.0. An updated version of the class exists in the langchain-openai package and should be used instead. To use it run `pip install -U langchain-openai` and import as `from langchain_openai import ChatOpenAI`.\n",
      "  warn_deprecated(\n"
     ]
    }
   ],
   "source": [
    "# ChatOpenAI 모델 초기화 (gpt-4o-mini 사용)\n",
    "model = ChatOpenAI(model_name=\"gpt-4o-mini\", temperature=0.7, api_key=openai_api_key)\n",
    "\n",
    "output_parser = StrOutputParser()\n",
    "runnable1 = {\"input\": RunnablePassthrough()}\n",
    "runnable2 = RunnablePassthrough.assign(\n",
    "    chat_history=RunnableLambda(memory.load_memory_variables) | itemgetter(\"chat_history\"),\n",
    "    personality=RunnableLambda(read_luckyvicky)\n",
    ")\n",
    "runnable = runnable1 | runnable2\n",
    "chain = runnable | prompt | model | StrOutputParser()"
   ]
  },
  {
   "cell_type": "code",
   "execution_count": null,
   "metadata": {},
   "outputs": [
    {
     "name": "stdout",
     "output_type": "stream",
     "text": [
      "대화를 시작합니다. 종료하려면 'exit', 'quit', 또는 '종료'를 입력하세요.\n",
      "원영적 사고: 헬로우~ 반가워! 😄✨ 오늘도 수다 떨 준비됐지? 날씨가 추운 건 조금 힘들 수 있지만, 오히려 좋아! 이렇게 추운 날은 따뜻한 음료를 즐길 기회잖아! ☕️😊 너는 따뜻하게 잘 지내고 있어? 어떤 음료 좋아해? ❤️\n",
      "\n"
     ]
    }
   ],
   "source": [
    "# 대화 함수\n",
    "def chat_with_model(input_text):\n",
    "    result = chain.invoke({\"input\": input_text})\n",
    "    # 대화 기록 저장\n",
    "    memory.chat_memory.add_user_message(input_text)\n",
    "    memory.chat_memory.add_ai_message(result)\n",
    "    return result\n",
    "\n",
    "# 사용자 입력 받아서 대화하기\n",
    "print(\"대화를 시작합니다. 종료하려면 'exit', 'quit', 또는 '종료'를 입력하세요.\")\n",
    "while True:\n",
    "    user_input = input(\"사용자: \")\n",
    "    if user_input.lower() in [\"exit\", \"quit\", \"종료\"]:\n",
    "        print(\"대화를 종료합니다.\")\n",
    "        break\n",
    "    response = chat_with_model(user_input)\n",
    "    print(f\"원영적 사고: {response}\\n\")"
   ]
  }
 ],
 "metadata": {
  "kernelspec": {
   "display_name": "want2",
   "language": "python",
   "name": "python3"
  },
  "language_info": {
   "codemirror_mode": {
    "name": "ipython",
    "version": 3
   },
   "file_extension": ".py",
   "mimetype": "text/x-python",
   "name": "python",
   "nbconvert_exporter": "python",
   "pygments_lexer": "ipython3",
   "version": "3.10.14"
  }
 },
 "nbformat": 4,
 "nbformat_minor": 2
}
