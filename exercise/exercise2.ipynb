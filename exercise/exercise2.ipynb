{
 "cells": [
  {
   "cell_type": "markdown",
   "metadata": {},
   "source": [
    "## Logger"
   ]
  },
  {
   "cell_type": "code",
   "execution_count": 1,
   "metadata": {},
   "outputs": [],
   "source": [
    "import logging\n",
    "\n",
    "class MainLogger:\n",
    "    def __init__(self):\n",
    "        self.formatter = logging.Formatter('[%(levelname)s] %(message)s')\n",
    "        self.logger = self._get_logger()\n",
    "\n",
    "    def _set_handler(self):\n",
    "        handler = logging.StreamHandler()\n",
    "        handler.setLevel(logging.DEBUG)\n",
    "        handler.setFormatter(self.formatter)\n",
    "\n",
    "        return handler \n",
    "    \n",
    "    def _get_logger(self):\n",
    "        logger = logging.getLogger(__name__)\n",
    "        logger.setLevel(logging.DEBUG)\n",
    "        logger.addHandler(self._set_handler())\n",
    "    \n",
    "        return logger\n",
    "    \n",
    "    def debug(self, message):\n",
    "        self.logger.debug(message)\n",
    "\n",
    "    def info(self, message):\n",
    "        self.logger.info(message)\n",
    "\n",
    "    def warning(self, message):\n",
    "        self.logger.warning(message)\n",
    "\n",
    "    def error(self, message):\n",
    "        self.logger.error(message, exc_info=True)\n",
    "\n",
    "logger = MainLogger()"
   ]
  },
  {
   "cell_type": "markdown",
   "metadata": {},
   "source": [
    "## Google API Key 유효성 검사"
   ]
  },
  {
   "cell_type": "code",
   "execution_count": 2,
   "metadata": {},
   "outputs": [
    {
     "name": "stderr",
     "output_type": "stream",
     "text": [
      "[INFO] Google API Key validation succeeded.\n"
     ]
    }
   ],
   "source": [
    "import os\n",
    "import json \n",
    "import requests\n",
    "from dotenv import load_dotenv\n",
    "\n",
    "load_dotenv()\n",
    "\n",
    "def validate_google_api_key():\n",
    "    \"\"\"Google API Key 유효성 검사하는 함수\"\"\"\n",
    "    key_name = \"GOOGLE_API_KEY\"\n",
    "    if key_name not in os.environ:\n",
    "        return f\"{key_name} 정보가 없습니다. 환경변수를 확인해주세요.\"\n",
    "    \n",
    "    result = requests.post(\n",
    "        url= \"https://generativelanguage.googleapis.com/v1/models/gemini-1.5-flash:generateContent\",\n",
    "        data=b'{\"contents\":[{\"parts\":[{\"text\":\"\"}]}]}',\n",
    "        headers={\n",
    "            \"Content-Type\": \"application/json\",\n",
    "            \"x-goog-api-key\": os.getenv(key_name)\n",
    "        }\n",
    "    )\n",
    "\n",
    "    if result.status_code != 200:\n",
    "        logger.debug(json.loads(result.content))\n",
    "    \n",
    "    logger.info(\"Google API Key validation succeeded.\") # logger 대체\n",
    "\n",
    "validate_google_api_key()\n",
    "\n",
    "# API 틀릴 때 \n",
    "# {'error': {\n",
    "#         'code': 400,\n",
    "#         'message': 'API key not valid. Please pass a valid API key.',\n",
    "#         'status': 'INVALID_ARGUMENT',\n",
    "#         'details': [\n",
    "#             {\n",
    "#                 '@type': 'type.googleapis.com/google.rpc.ErrorInfo',\n",
    "#                 'reason': 'API_KEY_INVALID',\n",
    "#                 'domain': 'googleapis.com',\n",
    "#                 'metadata': {'service': 'generativelanguage.googleapis.com'}\n",
    "#             }\n",
    "#         ]\n",
    "#     }\n",
    "# }"
   ]
  },
  {
   "cell_type": "markdown",
   "metadata": {},
   "source": [
    "## Gemini 모듈"
   ]
  },
  {
   "cell_type": "code",
   "execution_count": 3,
   "metadata": {},
   "outputs": [],
   "source": [
    "import os \n",
    "import asyncio\n",
    "from pathlib import Path\n",
    "from dotenv import load_dotenv\n",
    "\n",
    "from langchain_google_genai import ChatGoogleGenerativeAI\n",
    "from langchain_core.prompts import PromptTemplate, ChatPromptTemplate, MessagesPlaceholder\n",
    "from langchain_core.messages import AIMessage,HumanMessage\n",
    "from langchain_core.output_parsers import StrOutputParser\n",
    "\n",
    "class Gemini:\n",
    "    def __init__(\n",
    "        self,\n",
    "        user_info=None,\n",
    "        character_info=None,\n",
    "        chat_history=None\n",
    "    ) -> None:\n",
    "        \n",
    "        # 입력값에 대한 변수\n",
    "        self.inputs = self._get_inputs(user_info, character_info, chat_history)\n",
    "        \n",
    "        # 체인에 대한 변수\n",
    "        self.template_path = \"./static/templates/Demo.prompt\"\n",
    "        self.model_name = \"gemini-1.5-flash\"\n",
    "        self.temperature = 0.7\n",
    "        self.chain = self._make_chain()\n",
    "\n",
    "    def _get_inputs(self, user_info, character_info, chat_history):\n",
    "        \"\"\"input_data들을 하나의 딕셔너리로 바꾸는 메서드\"\"\"\n",
    "        inputs = {\n",
    "            \"user_info\": user_info,\n",
    "            \"character_info\" : character_info,\n",
    "            \"chat_history\": self._wrap_message(chat_history)\n",
    "        }\n",
    "\n",
    "        return inputs\n",
    "\n",
    "    def _wrap_message(self, chat_history):\n",
    "        \"\"\"chat_history에 Message 객체 씌우는 메서드\"\"\"\n",
    "        if not chat_history:\n",
    "            return []\n",
    "\n",
    "        chat_messages = []\n",
    "        for log in chat_history:\n",
    "            if log[\"role\"] == \"user\":\n",
    "                chat = HumanMessage(log[\"content\"])\n",
    "            else:\n",
    "                chat = AIMessage(log[\"content\"])\n",
    "            \n",
    "            chat_messages.append(chat)\n",
    "        \n",
    "        return chat_messages\n",
    "    \n",
    "    @staticmethod\n",
    "    def read_template(filepath:str) -> str:\n",
    "        \"\"\"프롬프트 파일을 읽고 텍스트로 반환하는 함수\n",
    "\n",
    "        Args:\n",
    "            filepath (str): markdown 파일 경로\n",
    "\n",
    "        Returns:\n",
    "            str: markdown 파일에서 추출된 텍스트\n",
    "        \"\"\"\n",
    "        file = Path(filepath)\n",
    "        \n",
    "        if not file.is_file():\n",
    "            file_text = f\"[ERROR] 파일 경로를 찾을 수 없습니다.(INPUT PATH: {filepath})\"\n",
    "        else:\n",
    "            file_text = file.read_text(encoding=\"utf-8\")\n",
    "\n",
    "        return file_text\n",
    "    \n",
    "    def _get_prompts(self):\n",
    "        \"\"\"프롬프트 객체 만드는 메서드\"\"\"\n",
    "        # 프롬프트 설정\n",
    "        template = self.read_template(self.template_path)\n",
    "        prompt = ChatPromptTemplate.from_messages(\n",
    "            [\n",
    "                (\"system\", template),\n",
    "                MessagesPlaceholder(variable_name=\"chat_history\"),\n",
    "                (\"human\", \"{input}\"),\n",
    "            ]\n",
    "        )\n",
    "\n",
    "        return prompt\n",
    "    \n",
    "    def _make_chain(self):\n",
    "        \"\"\"Chain 만드는 메서드\"\"\"\n",
    "        # 프롬프트 설정\n",
    "        prompt = self._get_prompts()\n",
    "\n",
    "        # 모델 설정\n",
    "        model = ChatGoogleGenerativeAI(\n",
    "            model=self.model_name,\n",
    "            temperature=self.temperature\n",
    "        )\n",
    "\n",
    "        # 출력 파서 설정\n",
    "        output_parser = StrOutputParser()\n",
    "\n",
    "        # 체인 만들기\n",
    "        chain = prompt | model | output_parser\n",
    "\n",
    "        return chain\n",
    "        \n",
    "    # 방안1, 2에 적용했으나 쓰지 않을 예정\n",
    "    async def astream(self, input):\n",
    "        self.inputs[\"input\"] = input\n",
    "\n",
    "        output = \"\"\n",
    "        result = self.chain.astream(self.inputs)\n",
    "        async for token in result:\n",
    "            output += token \n",
    "            # 한글자씩 스트리밍\n",
    "            for char in token:\n",
    "                print(char, end=\"\", flush=True)\n",
    "            \n",
    "        \n",
    "        return output\n",
    "    \n",
    "    async def astream_yield(self, input):\n",
    "        self.inputs[\"input\"] = input\n",
    "\n",
    "        result = self.chain.astream(self.inputs)\n",
    "        async for token in result:\n",
    "            # 한글자씩 스트리밍\n",
    "            for char in token:\n",
    "                await asyncio.sleep(0.01)\n",
    "                yield char\n",
    "\n",
    "    # NEW\n",
    "    def add_history(self, input, output):\n",
    "        self.inputs[\"chat_history\"].extend(\n",
    "        [\n",
    "            HumanMessage(content=input),\n",
    "            AIMessage(content=output)\n",
    "        ]\n",
    "    )\n"
   ]
  },
  {
   "cell_type": "markdown",
   "metadata": {},
   "source": [
    "## 입력값 형태"
   ]
  },
  {
   "cell_type": "code",
   "execution_count": 4,
   "metadata": {},
   "outputs": [],
   "source": [
    "user_info = {\n",
    "    \"user_name\": \"\",\n",
    "    \"user_birthdate\": \"\",\n",
    "    \"user_gender\": \"\"\n",
    "}\n",
    "\n",
    "character_info = {\n",
    "    \"character_name\": \"\",\n",
    "    \"character_gender\": \"\",\n",
    "    \"character_personality\": \"\",\n",
    "    \"character_details\": \"\",\n",
    "    \"relation_type\": \"\"\n",
    "}\n",
    "\n",
    "chat_history = [\n",
    "    {\"role\":\"user\", \"content\":\"hello\"},\n",
    "    {\"role\":\"character\", \"content\":\"Hi\"},\n",
    "    {\"role\":\"user\", \"content\":\"I'm so happy\"}\n",
    "]"
   ]
  },
  {
   "cell_type": "code",
   "execution_count": 5,
   "metadata": {},
   "outputs": [
    {
     "name": "stdout",
     "output_type": "stream",
     "text": [
      "빵은 언제나 좋은 선택이지! 맛있는 빵으로 기분이 나아지길 바라! 😊 무슨 빵을 샀는지 말해줄 수 있어? 혹시 좋아하는 빵집이 있다면 추천해줄 수도 있고! 😊 \n"
     ]
    }
   ],
   "source": [
    "gemini = Gemini(\n",
    "        user_info = user_info,\n",
    "        character_info = character_info, \n",
    "        chat_history = chat_history\n",
    "    )\n",
    "\n",
    "output = await gemini.astream(\"나 오늘 우울해서 빵을 샀어\")"
   ]
  },
  {
   "cell_type": "markdown",
   "metadata": {},
   "source": [
    "## 방안 1"
   ]
  },
  {
   "cell_type": "code",
   "execution_count": 6,
   "metadata": {},
   "outputs": [],
   "source": [
    "user_info = {\n",
    "    \"user_name\": \"\",\n",
    "    \"user_birthdate\": \"\",\n",
    "    \"user_gender\": \"\"\n",
    "}\n",
    "\n",
    "character_info = {\n",
    "    \"character_name\": \"\",\n",
    "    \"character_gender\": \"\",\n",
    "    \"character_personality\": \"\",\n",
    "    \"character_details\": \"\",\n",
    "    \"relation_type\": \"\"\n",
    "}\n",
    "\n",
    "chat_history = [\n",
    "    {\"role\":\"user\", \"content\":\"hello\"},\n",
    "    {\"role\":\"character\", \"content\":\"Hi\"},\n",
    "    {\"role\":\"user\", \"content\":\"I'm so happy\"}\n",
    "]"
   ]
  },
  {
   "cell_type": "code",
   "execution_count": 7,
   "metadata": {},
   "outputs": [],
   "source": [
    "# 방안 1\n",
    "async def main(input):\n",
    "    gemini = Gemini(\n",
    "        user_info = user_info,\n",
    "        character_info = character_info, \n",
    "        chat_history = chat_history\n",
    "    )\n",
    "\n",
    "    output = await gemini.astream(input)\n",
    "    # DB 대신 임시 추가\n",
    "    chat_history.extend(\n",
    "        [\n",
    "            {\"role\": \"user\", \"content\":input},\n",
    "            {\"role\": \"character\", \"content\": output}\n",
    "        ]\n",
    "    )\n",
    "\n",
    "    return output "
   ]
  },
  {
   "cell_type": "code",
   "execution_count": 8,
   "metadata": {},
   "outputs": [
    {
     "name": "stdout",
     "output_type": "stream",
     "text": [
      "아, 그래요? 빵을 먹으면 기분이 좀 나아지시길 바라요. 어떤 빵을 사셨어요? 혹시 좋아하는 빵집이 있으신가요? 빵 이야기는 언제나 즐거워요! 😊 \n",
      "----------------------------------------------------------------------------------------------------\n",
      "아, 그래요? 빵을 먹으면 기분이 좀 나아지시길 바라요. 어떤 빵을 사셨어요? 혹시 좋아하는 빵집이 있으신가요? 빵 이야기는 언제나 즐거워요! 😊 \n",
      "\n"
     ]
    }
   ],
   "source": [
    "import nest_asyncio\n",
    "nest_asyncio.apply()\n",
    "import asyncio \n",
    "\n",
    "output = asyncio.run(main(\"나 오늘 우울해서 빵을 샀어\"))\n",
    "print(\"-\"*100)\n",
    "print(output)"
   ]
  },
  {
   "cell_type": "code",
   "execution_count": 9,
   "metadata": {},
   "outputs": [
    {
     "name": "stdout",
     "output_type": "stream",
     "text": [
      "단팥빵! 팥 좋아하시는군요! 달콤하고 부드러운 단팥빵은 뭔가 위로가 되는 ----------------------------------------------------------------------------------------------------\n",
      "단팥빵! 팥 좋아하시는군요! 달콤하고 부드러운 단팥빵은 뭔가 위로가 되는 \n"
     ]
    }
   ],
   "source": [
    "output = asyncio.run(main(\"단팥빵을 샀어\"))\n",
    "print(\"-\"*100)\n",
    "print(output)"
   ]
  },
  {
   "cell_type": "code",
   "execution_count": 10,
   "metadata": {},
   "outputs": [
    {
     "name": "stdout",
     "output_type": "stream",
     "text": [
      "죄송해요! 제가 집중력이 떨어졌나 봐요. 😅  다시 한번 말씀해주시겠어요? 무슨 빵을 사셨는지 궁금해요! \n",
      "\n",
      "----------------------------------------------------------------------------------------------------\n",
      "죄송해요! 제가 집중력이 떨어졌나 봐요. 😅  다시 한번 말씀해주시겠어요? 무슨 빵을 사셨는지 궁금해요! \n",
      "\n",
      "\n"
     ]
    }
   ],
   "source": [
    "output = asyncio.run(main(\"내가 무슨 빵 샀다고 했지?\"))\n",
    "print(\"-\"*100)\n",
    "print(output)"
   ]
  },
  {
   "cell_type": "markdown",
   "metadata": {},
   "source": [
    "## 방안 2"
   ]
  },
  {
   "cell_type": "code",
   "execution_count": 11,
   "metadata": {},
   "outputs": [],
   "source": [
    "user_info = {\n",
    "    \"user_name\": \"\",\n",
    "    \"user_birthdate\": \"\",\n",
    "    \"user_gender\": \"\"\n",
    "}\n",
    "\n",
    "character_info = {\n",
    "    \"character_name\": \"\",\n",
    "    \"character_gender\": \"\",\n",
    "    \"character_personality\": \"\",\n",
    "    \"character_details\": \"\",\n",
    "    \"relation_type\": \"\"\n",
    "}\n",
    "\n",
    "chat_history = [\n",
    "    {\"role\":\"user\", \"content\":\"hello\"},\n",
    "    {\"role\":\"character\", \"content\":\"Hi\"},\n",
    "    {\"role\":\"user\", \"content\":\"I'm so happy\"}\n",
    "]"
   ]
  },
  {
   "cell_type": "code",
   "execution_count": 12,
   "metadata": {},
   "outputs": [],
   "source": [
    "# 방안 2\n",
    "async def main(input):\n",
    "    gemini = Gemini(\n",
    "        user_info = user_info,\n",
    "        character_info = character_info, \n",
    "        chat_history = chat_history\n",
    "    )\n",
    "\n",
    "    inputs = gemini.inputs\n",
    "    chain = gemini.chain \n",
    "\n",
    "    inputs[\"input\"] = input\n",
    "    output = \"\"\n",
    "    result = chain.astream(inputs)\n",
    "    async for token in result:\n",
    "        output += token \n",
    "        for text in token:\n",
    "            # 웹소켓\n",
    "            print(text, end=\"\", flush=True)\n",
    "\n",
    "    # DB 대신 임시 추가\n",
    "    chat_history.extend(\n",
    "        [\n",
    "            {\"role\": \"user\", \"content\":input},\n",
    "            {\"role\": \"character\", \"content\": output}\n",
    "        ]\n",
    "    )\n",
    "\n",
    "    return output"
   ]
  },
  {
   "cell_type": "code",
   "execution_count": 13,
   "metadata": {},
   "outputs": [
    {
     "name": "stdout",
     "output_type": "stream",
     "text": [
      "빵은 언제나 좋은 선택이지! 맛있는 빵 먹으면서 기분 풀어봐. 😊  무슨 빵을 샀는지 말해줄 수 있어? 혹시 나눠 먹을 수 있는 빵이라면... 😜  \n",
      "----------------------------------------------------------------------------------------------------\n",
      "빵은 언제나 좋은 선택이지! 맛있는 빵 먹으면서 기분 풀어봐. 😊  무슨 빵을 샀는지 말해줄 수 있어? 혹시 나눠 먹을 수 있는 빵이라면... 😜  \n",
      "\n"
     ]
    }
   ],
   "source": [
    "import nest_asyncio\n",
    "nest_asyncio.apply()\n",
    "import asyncio \n",
    "\n",
    "output = asyncio.run(main(\"나 오늘 우울해서 빵을 샀어\"))\n",
    "print(\"-\"*100)\n",
    "print(output)"
   ]
  },
  {
   "cell_type": "code",
   "execution_count": 14,
   "metadata": {},
   "outputs": [
    {
     "name": "stdout",
     "output_type": "stream",
     "text": [
      "단팥빵! 팥 좋아하는 사람으로써 정말 맛있겠다! 🤤  달콤한 팥 앙금이랑 쫄깃한 빵 껍질의 조합은 최고지.  혹시 따뜻하게 데워서 먹었어? 따뜻하게 먹으면 더 맛있을 것 같아. 😊  \n",
      "\n",
      "혹시 팥 좋아하는 사람이라면 팥빙수도 추천해! 팥빙수 먹으면 시원하고 달콤해서 기분이 좋아질 거야. 🍧 \n",
      "----------------------------------------------------------------------------------------------------\n",
      "단팥빵! 팥 좋아하는 사람으로써 정말 맛있겠다! 🤤  달콤한 팥 앙금이랑 쫄깃한 빵 껍질의 조합은 최고지.  혹시 따뜻하게 데워서 먹었어? 따뜻하게 먹으면 더 맛있을 것 같아. 😊  \n",
      "\n",
      "혹시 팥 좋아하는 사람이라면 팥빙수도 추천해! 팥빙수 먹으면 시원하고 달콤해서 기분이 좋아질 거야. 🍧 \n",
      "\n"
     ]
    }
   ],
   "source": [
    "output = asyncio.run(main(\"단팥빵을 샀어\"))\n",
    "print(\"-\"*100)\n",
    "print(output)"
   ]
  },
  {
   "cell_type": "code",
   "execution_count": 15,
   "metadata": {},
   "outputs": [
    {
     "name": "stdout",
     "output_type": "stream",
     "text": [
      "앗, 미안해! 😅  내가 너무 팥빙수 생각에 휩쓸려서 깜빡했네.  네가 무슨 빵 샀는지 기억 안 나!  다시 한번 말해줄 수 있니? 😊 \n",
      "----------------------------------------------------------------------------------------------------\n",
      "앗, 미안해! 😅  내가 너무 팥빙수 생각에 휩쓸려서 깜빡했네.  네가 무슨 빵 샀는지 기억 안 나!  다시 한번 말해줄 수 있니? 😊 \n",
      "\n"
     ]
    }
   ],
   "source": [
    "output = asyncio.run(main(\"내가 무슨 빵 샀다고 했지?\"))\n",
    "print(\"-\"*100)\n",
    "print(output)"
   ]
  },
  {
   "cell_type": "markdown",
   "metadata": {},
   "source": [
    "## 🚨 방안1, 방안2 출력 시 버벅거림 발생"
   ]
  },
  {
   "cell_type": "markdown",
   "metadata": {},
   "source": [
    "## ⭐(확정) 방안 3"
   ]
  },
  {
   "cell_type": "code",
   "execution_count": 16,
   "metadata": {},
   "outputs": [],
   "source": [
    "user_info = {\n",
    "    \"user_name\": \"\",\n",
    "    \"user_birthdate\": \"\",\n",
    "    \"user_gender\": \"\"\n",
    "}\n",
    "\n",
    "character_info = {\n",
    "    \"character_name\": \"\",\n",
    "    \"character_gender\": \"\",\n",
    "    \"character_personality\": \"\",\n",
    "    \"character_details\": \"\",\n",
    "    \"relation_type\": \"\"\n",
    "}\n",
    "\n",
    "chat_history = [\n",
    "    {\"role\":\"user\", \"content\":\"hello\"},\n",
    "    {\"role\":\"character\", \"content\":\"Hi\"},\n",
    "    {\"role\":\"user\", \"content\":\"I'm so happy\"}\n",
    "]"
   ]
  },
  {
   "cell_type": "code",
   "execution_count": 17,
   "metadata": {},
   "outputs": [],
   "source": [
    "# 웹 소켓 적용\n",
    "async def main(input):\n",
    "    gemini = Gemini(\n",
    "        user_info = user_info,\n",
    "        character_info = character_info, \n",
    "        chat_history = chat_history\n",
    "    )\n",
    "\n",
    "    output = \"\"\n",
    "    async for char in gemini.astream_yield(input):\n",
    "        output += char\n",
    "        print(char, end=\"\", flush=True)\n",
    "        \n",
    "    # DB 대신 임시 추가\n",
    "    chat_history.extend(\n",
    "        [\n",
    "            {\"role\": \"user\", \"content\":input},\n",
    "            {\"role\": \"character\", \"content\": output}\n",
    "        ]\n",
    "    )"
   ]
  },
  {
   "cell_type": "code",
   "execution_count": 18,
   "metadata": {},
   "outputs": [
    {
     "name": "stdout",
     "output_type": "stream",
     "text": [
      "아, 그래요? 빵은 언제나 좋은 선택이죠! 맛있는 빵을 먹으면 기분이 좀 나아지시겠어요. 😊 어떤 빵을 사셨는지 궁금하네요! 혹시 좋아하는 빵 종류가 있으신가요? \n"
     ]
    }
   ],
   "source": [
    "import nest_asyncio\n",
    "nest_asyncio.apply()\n",
    "import asyncio \n",
    "\n",
    "asyncio.run(main(\"나 오늘 우울해서 빵을 샀어\"))"
   ]
  },
  {
   "cell_type": "code",
   "execution_count": 19,
   "metadata": {},
   "outputs": [
    {
     "name": "stdout",
     "output_type": "stream",
     "text": [
      "단팥빵! 팥 좋아하는 사람으로서 정말 맛있겠네요. 😋 달콤한 팥 앙금이 가득한 단팥빵은 뭔가 위로가 되는 맛이죠.  혹시 따뜻하게 데워 드시는 건 어떠세요? 뜨끈한 단팥빵은 더욱 맛있을 것 같아요. \n",
      "\n",
      "오늘 우울하셨다니, 단팥빵 드시면서 기분이 좀 나아지셨으면 좋겠어요. 😊 \n"
     ]
    }
   ],
   "source": [
    "asyncio.run(main(\"단팥빵을 샀어\"))"
   ]
  },
  {
   "cell_type": "code",
   "execution_count": 20,
   "metadata": {},
   "outputs": [
    {
     "name": "stdout",
     "output_type": "stream",
     "text": [
      "앗, 죄송해요! 제가 깜빡했네요. 😅  단팥빵이라고 말씀하셨죠? \n",
      "\n",
      "단팥빵 맛있게 드시고 기분이 나아지셨으면 좋겠어요! 😊  혹시 빵 드시면서 뭐 하고 싶으신가요? \n",
      "\n"
     ]
    }
   ],
   "source": [
    "asyncio.run(main(\"내가 무슨 빵 샀다고 했지?\"))"
   ]
  },
  {
   "cell_type": "markdown",
   "metadata": {},
   "source": [
    "## 🚨 너무 빨리 입력하면 중간에 출력되다 마는 현상 발생 -> model을 계속 불러와서 그런건 아닐까 추정 (방안 4 적용)"
   ]
  },
  {
   "cell_type": "markdown",
   "metadata": {},
   "source": [
    "## 방안 4"
   ]
  },
  {
   "cell_type": "code",
   "execution_count": 21,
   "metadata": {},
   "outputs": [],
   "source": [
    "user_info = {\n",
    "    \"user_name\": \"\",\n",
    "    \"user_birthdate\": \"\",\n",
    "    \"user_gender\": \"\"\n",
    "}\n",
    "\n",
    "character_info = {\n",
    "    \"character_name\": \"\",\n",
    "    \"character_gender\": \"\",\n",
    "    \"character_personality\": \"\",\n",
    "    \"character_details\": \"\",\n",
    "    \"relation_type\": \"\"\n",
    "}\n",
    "\n",
    "chat_history = [\n",
    "    {\"role\":\"user\", \"content\":\"hello\"},\n",
    "    {\"role\":\"character\", \"content\":\"Hi\"},\n",
    "    {\"role\":\"user\", \"content\":\"I'm so happy\"}\n",
    "]"
   ]
  },
  {
   "cell_type": "code",
   "execution_count": 22,
   "metadata": {},
   "outputs": [],
   "source": [
    "# 웹 소켓 적용\n",
    "gemini = Gemini(\n",
    "    user_info = user_info,\n",
    "    character_info = character_info, \n",
    "    chat_history = chat_history\n",
    ")\n",
    "\n",
    "async def main(input):\n",
    "    output = \"\"\n",
    "    async for char in gemini.astream_yield(input):\n",
    "        output += char\n",
    "        print(char, end=\"\", flush=True)\n",
    "        \n",
    "    # DB 대신 임시 추가\n",
    "    gemini.inputs[\"chat_history\"].extend(\n",
    "        [\n",
    "            HumanMessage(content=input),\n",
    "            AIMessage(content=output)\n",
    "        ]\n",
    "    )"
   ]
  },
  {
   "cell_type": "code",
   "execution_count": 23,
   "metadata": {},
   "outputs": [
    {
     "name": "stdout",
     "output_type": "stream",
     "text": [
      "빵을 먹으면 기분이 나아지나요? 어떤 빵을 사셨어요? 맛있게 드시고 기분이 좀 나아지셨으면 좋겠네요! 😊 혹시 힘든 일이 있으면 털어놓고 싶으시면 언제든지 말씀해주세요. \n",
      "\n"
     ]
    }
   ],
   "source": [
    "import nest_asyncio\n",
    "nest_asyncio.apply()\n",
    "import asyncio \n",
    "\n",
    "asyncio.run(main(\"나 오늘 우울해서 빵을 샀어\"))"
   ]
  },
  {
   "cell_type": "code",
   "execution_count": 24,
   "metadata": {},
   "outputs": [
    {
     "name": "stdout",
     "output_type": "stream",
     "text": [
      "단팥빵! 달콤한 팥 앙금이 가득한 단팥빵은 정말 맛있죠! 😋  단팥빵 먹으면서 달콤한 기분으로 우울함이 싹 사라지셨으면 좋겠어요. 😊  혹시 힘든 일이 있으면 언제든지 말씀해주세요.  \n",
      "\n",
      "혹시 단팥빵과 함께 먹으면 더 맛있는 음료는 없으신가요? 😊 \n"
     ]
    }
   ],
   "source": [
    "asyncio.run(main(\"단팥빵을 샀어\"))"
   ]
  },
  {
   "cell_type": "code",
   "execution_count": 25,
   "metadata": {},
   "outputs": [
    {
     "name": "stdout",
     "output_type": "stream",
     "text": [
      "아, 죄송해요! 제가 깜빡했네요. 😅  단팥빵이 아니라 다른 빵을 사셨죠? 어떤 빵을 사셨는지 다시 말씀해주시겠어요? 😊 \n",
      "\n",
      "혹시 빵 이름을 말씀해주시면 제가 빵에 대한 정보를 찾아서 같이 이야기 나눠볼 수도 있을 것 같아요! 🍞 \n",
      "\n",
      "\n"
     ]
    }
   ],
   "source": [
    "asyncio.run(main(\"내가 무슨 빵 샀다고 했지?\"))"
   ]
  },
  {
   "cell_type": "markdown",
   "metadata": {},
   "source": [
    "## add history 추가 테스트"
   ]
  },
  {
   "cell_type": "code",
   "execution_count": 26,
   "metadata": {},
   "outputs": [],
   "source": [
    "user_info = {\n",
    "    \"user_name\": \"\",\n",
    "    \"user_birthdate\": \"\",\n",
    "    \"user_gender\": \"\"\n",
    "}\n",
    "\n",
    "character_info = {\n",
    "    \"character_name\": \"\",\n",
    "    \"character_gender\": \"\",\n",
    "    \"character_personality\": \"\",\n",
    "    \"character_details\": \"\",\n",
    "    \"relation_type\": \"\"\n",
    "}\n",
    "\n",
    "chat_history = [\n",
    "    {\"role\":\"user\", \"content\":\"hello\"},\n",
    "    {\"role\":\"character\", \"content\":\"Hi\"},\n",
    "    {\"role\":\"user\", \"content\":\"I'm so happy\"}\n",
    "]"
   ]
  },
  {
   "cell_type": "code",
   "execution_count": 33,
   "metadata": {},
   "outputs": [],
   "source": [
    "# 웹 소켓 적용\n",
    "gemini = Gemini(\n",
    "    user_info = user_info,\n",
    "    character_info = character_info, \n",
    "    chat_history = chat_history\n",
    ")\n",
    "\n",
    "async def main(input):\n",
    "    output = \"\"\n",
    "    async for char in gemini.astream_yield(input):\n",
    "        output += char\n",
    "        print(char, end=\"\", flush=True)\n",
    "        \n",
    "    # DB 에 input, output 넣는 코드 자리\n",
    "    # history 속성에 새로운 대화 추가\n",
    "    gemini.add_history(input, output)"
   ]
  },
  {
   "cell_type": "code",
   "execution_count": 28,
   "metadata": {},
   "outputs": [
    {
     "name": "stdout",
     "output_type": "stream",
     "text": [
      "빵을 먹으면 기분이 나아지길 바라요! 맛있는 빵을 골랐는지 궁금해요. 어떤 빵을 샀는지 말해줄 수 있나요? 😊 \n"
     ]
    }
   ],
   "source": [
    "import nest_asyncio\n",
    "nest_asyncio.apply()\n",
    "import asyncio \n",
    "\n",
    "asyncio.run(main(\"나 오늘 우울해서 빵을 샀어\"))"
   ]
  },
  {
   "cell_type": "code",
   "execution_count": 29,
   "metadata": {},
   "outputs": [
    {
     "name": "stdout",
     "output_type": "stream",
     "text": [
      "단팥빵! 달콤하고 부드러운 팥앙금이 가득한 단팥빵은 정말 맛있죠!  따뜻"
     ]
    }
   ],
   "source": [
    "asyncio.run(main(\"단팥빵을 샀어\"))"
   ]
  },
  {
   "cell_type": "code",
   "execution_count": 30,
   "metadata": {},
   "outputs": [
    {
     "name": "stdout",
     "output_type": "stream",
     "text": [
      "맞아요! 단팥빵이라고 말씀하셨죠! 😊  달콤한 팥앙금이 가득한 단팥빵은 정말 맛있어요. \n",
      "\n",
      "혹시 어떤 브랜드의 단팥빵인지 궁금해요? \n"
     ]
    }
   ],
   "source": [
    "asyncio.run(main(\"내가 무슨 빵 샀다고 했지?\"))"
   ]
  },
  {
   "cell_type": "code",
   "execution_count": null,
   "metadata": {},
   "outputs": [],
   "source": []
  },
  {
   "cell_type": "code",
   "execution_count": 31,
   "metadata": {},
   "outputs": [],
   "source": [
    "# 웹소켓 예시코드\n",
    "# 참고 사이트: https://github.com/zhiyuan8/FastAPI-websocket-tutorial/blob/main/fastapi-chatbot/main.py\n",
    "# @app.websocket(\"/ws\")\n",
    "# async def websocket_endpoint(websocket: WebSocket):\n",
    "#     \"\"\"Websocket endpoint for real-time AI responses.\"\"\"\n",
    "#     await websocket.accept()\n",
    "#     while True:\n",
    "        \n",
    "#         user_message = await websocket.receive_text()\n",
    "#         async for ai_response in get_ai_response(user_message):\n",
    "#             await websocket.send_text(ai_response)"
   ]
  },
  {
   "cell_type": "code",
   "execution_count": 32,
   "metadata": {},
   "outputs": [
    {
     "name": "stdout",
     "output_type": "stream",
     "text": [
      "나는오늘점심을먹었다\n"
     ]
    }
   ],
   "source": [
    "# 예제 \n",
    "import asyncio\n",
    "\n",
    "async def stream_tokens():\n",
    "    tokens = [\"나는\", \"오늘\", \"점심을\", \"먹었다\"]\n",
    "    for token in tokens:\n",
    "        for char in token:\n",
    "            await asyncio.sleep(0.1)  # 실제 네트워크 지연을 시뮬레이션\n",
    "            yield char\n",
    "\n",
    "async def main():\n",
    "    async for char in stream_tokens():\n",
    "        print(char, end=\"\", flush=True)\n",
    "    print()  # 마지막에 줄바꿈\n",
    "\n",
    "asyncio.run(main())"
   ]
  }
 ],
 "metadata": {
  "kernelspec": {
   "display_name": "langchain",
   "language": "python",
   "name": "python3"
  },
  "language_info": {
   "codemirror_mode": {
    "name": "ipython",
    "version": 3
   },
   "file_extension": ".py",
   "mimetype": "text/x-python",
   "name": "python",
   "nbconvert_exporter": "python",
   "pygments_lexer": "ipython3",
   "version": "3.10.13"
  }
 },
 "nbformat": 4,
 "nbformat_minor": 2
}
